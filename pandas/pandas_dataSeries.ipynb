{
 "cells": [
  {
   "cell_type": "code",
   "execution_count": 26,
   "id": "231484cc-ca74-4a8a-9f71-c50ead224dbe",
   "metadata": {},
   "outputs": [],
   "source": [
    "import pandas as pd\n",
    "import numpy as np"
   ]
  },
  {
   "cell_type": "code",
   "execution_count": 5,
   "id": "e5e22517-1cfa-4738-b5b9-1860a2d52a94",
   "metadata": {},
   "outputs": [],
   "source": [
    "# Creation of Series\n",
    "s = pd.Series([1,2,3,4,5])"
   ]
  },
  {
   "cell_type": "code",
   "execution_count": 91,
   "id": "35cfa162-318b-4e5f-9576-398fefa75cc9",
   "metadata": {},
   "outputs": [],
   "source": [
    "# Converting to list\n",
    "s = pd.Series([6, 7, 8, 9]).tolist()"
   ]
  },
  {
   "cell_type": "code",
   "execution_count": 20,
   "id": "1f6fca82-6a3a-4231-99bf-3e743cac99a1",
   "metadata": {},
   "outputs": [],
   "source": [
    "x1 = pd.Series([2, 4, 6, 8, 10])\n",
    "x2 = pd.Series([1, 3, 6, 7, 10])\n",
    "\n",
    "# Basic Mathematical Operations\n",
    "add = (x1 + x2)\n",
    "subtract = (x1 - x2)\n",
    "multiply = (x1 * x2)\n",
    "divide = (x1 / x2)\n"
   ]
  },
  {
   "cell_type": "code",
   "execution_count": 21,
   "id": "e6b9ff53-7725-4fbb-8257-272ff92fb203",
   "metadata": {},
   "outputs": [],
   "source": [
    "# Boolean Comparison of Series\n",
    "lte_bool = (x1 <= x2)\n",
    "gt_bool = x1 > x2"
   ]
  },
  {
   "cell_type": "code",
   "execution_count": 27,
   "id": "2f959364-d0ae-4ce7-9f9b-48b750463655",
   "metadata": {},
   "outputs": [],
   "source": [
    "# Panda series from python dictionary\n",
    "s = pd.Series(\n",
    "    {'a': 100, 'b': 200, 'c': 300, 'd': 400, 'e': 800}\n",
    ")"
   ]
  },
  {
   "cell_type": "code",
   "execution_count": 37,
   "id": "2f59157e-699c-40fd-8ed5-10b8c2d0325a",
   "metadata": {},
   "outputs": [],
   "source": [
    "# Numpy array to pandas series\n",
    "s = np.array([10, 20, 30, 40, 50])\n",
    "s1 = pd.Series(s2)"
   ]
  },
  {
   "cell_type": "code",
   "execution_count": 54,
   "id": "8622e55c-05af-4b55-b893-2d3371a90b26",
   "metadata": {},
   "outputs": [],
   "source": [
    "# Data type conversion\n",
    "s = pd.Series(['100', '200.232', 'python', '300.12', '400'])\n",
    "s1 = pd.to_numeric(s, errors='coerce') \n",
    "# errors='raise' is default option\n",
    "# errors='ignore' will ignore the error values"
   ]
  },
  {
   "cell_type": "code",
   "execution_count": 86,
   "id": "87b34113-325b-4005-b406-384974844710",
   "metadata": {},
   "outputs": [],
   "source": [
    "# Converting first column of df into series\n",
    "d = pd.DataFrame({\n",
    "    'col1': [1, 2, 3, 4, 7, 11], \n",
    "    'col2': [4, 5, 6, 9, 5, 0], \n",
    "    'col3': [7, 5, 8, 12, 1,11]\n",
    "})\n",
    "\n",
    "# : for selecting entire axis (row, column)\n",
    "d.iloc[:, 0]"
   ]
  },
  {
   "cell_type": "code",
   "execution_count": 104,
   "id": "8142d15c-6f65-495e-97c7-c9114daa2759",
   "metadata": {},
   "outputs": [],
   "source": [
    "# Series to python list\n",
    "s = pd.Series(['100', '200.232', 'python', '300.12', '400'])\n",
    "s.values # numpy array\n",
    "s.tolist() # python list"
   ]
  },
  {
   "cell_type": "code",
   "execution_count": 130,
   "id": "cd471f37-407a-490e-a108-b7fe96cf3577",
   "metadata": {},
   "outputs": [],
   "source": [
    "# Series of list into one Series\n",
    "s = pd.Series([\n",
    "    ['Red', 'Green', 'White'],\n",
    "    ['Red', 'Black'],\n",
    "    ['Yellow']]\n",
    ")\n",
    "s = s.apply(pd.Series).stack().reset_index(drop=True)\n",
    "# Alternative with explode\n",
    "s = s.explode().reset_index(drop=True)"
   ]
  },
  {
   "cell_type": "code",
   "execution_count": 129,
   "id": "b0da3e39-b198-4e6a-afc4-4bb0f0461b6c",
   "metadata": {},
   "outputs": [],
   "source": [
    "# Merging multiple series into one series\n",
    "s1 = pd.Series(['a', 'b'])\n",
    "s2 = pd.Series(['c', 'd'])\n",
    "\n",
    "s3 = pd.concat([s1, s2], ignore_index=True)"
   ]
  },
  {
   "cell_type": "code",
   "execution_count": 138,
   "id": "43121a39-c590-4c5f-9204-4ef2b6b55ca0",
   "metadata": {},
   "outputs": [],
   "source": [
    "# Sorting the series \n",
    "s = pd.Series(['100', '200.232', 'python', '300.12', '400'])\n",
    "s1 = s.sort_values()\n",
    "s2 = s.sort_values(ascending=False)"
   ]
  },
  {
   "cell_type": "code",
   "execution_count": 141,
   "id": "50d7b04a-af6b-4353-9aef-76b249284340",
   "metadata": {},
   "outputs": [],
   "source": [
    "# Adding or appending values to existing series  \n",
    "s = pd.Series(['100', '200.232', 'python', '300.12', '400'])\n",
    "s1 = pd.concat([s, pd.Series([500, 'java'])], ignore_index=True)"
   ]
  },
  {
   "cell_type": "code",
   "execution_count": 150,
   "id": "ed7f040b-1b94-485f-8f91-5406870f6dd3",
   "metadata": {},
   "outputs": [],
   "source": [
    "# Subset based on condition\n",
    "s = pd.Series([1, 2, 3, 4, 5])\n",
    "s[s < 4]"
   ]
  },
  {
   "cell_type": "code",
   "execution_count": 158,
   "id": "72d9059c-6b54-43a3-977b-6983639e8975",
   "metadata": {},
   "outputs": [],
   "source": [
    "# Changing the order of index\n",
    "s = pd.Series([1, 2, 3, 4, 5])\n",
    "s.reindex([0, 4, 3, 2, 1])\n",
    "\n",
    "s1 = pd.Series(data=[1,2,3,4,5], index=['A', 'B', 'C','D','E'])\n",
    "s1.reindex(index=['B','A','C','D','E'])"
   ]
  },
  {
   "cell_type": "code",
   "execution_count": 165,
   "id": "b4bc6869-c83a-4e92-b506-a5ebc171a8cf",
   "metadata": {},
   "outputs": [
    {
     "data": {
      "text/plain": [
       "'Mean of series'"
      ]
     },
     "metadata": {},
     "output_type": "display_data"
    },
    {
     "data": {
      "text/plain": [
       "4.5"
      ]
     },
     "metadata": {},
     "output_type": "display_data"
    },
    {
     "data": {
      "text/plain": [
       "'Standard Deviation of series'"
      ]
     },
     "metadata": {},
     "output_type": "display_data"
    },
    {
     "data": {
      "text/plain": [
       "3.0276503540974917"
      ]
     },
     "metadata": {},
     "output_type": "display_data"
    }
   ],
   "source": [
    "# Mean and Standard deviation of series\n",
    "s = pd.Series([0, 1, 2, 3, 4, 5, 6, 7, 8, 9])\n",
    "display(\"Mean of series\") \n",
    "display(s.mean())\n",
    "display(\"Standard Deviation of series\")\n",
    "display(s.std())"
   ]
  },
  {
   "cell_type": "code",
   "execution_count": null,
   "id": "5ee0666f-0730-4b0f-b04b-a74c03cb17a7",
   "metadata": {},
   "outputs": [],
   "source": []
  }
 ],
 "metadata": {
  "kernelspec": {
   "display_name": "Python 3 (ipykernel)",
   "language": "python",
   "name": "python3"
  },
  "language_info": {
   "codemirror_mode": {
    "name": "ipython",
    "version": 3
   },
   "file_extension": ".py",
   "mimetype": "text/x-python",
   "name": "python",
   "nbconvert_exporter": "python",
   "pygments_lexer": "ipython3",
   "version": "3.11.3"
  }
 },
 "nbformat": 4,
 "nbformat_minor": 5
}
