{
 "cells": [
  {
   "cell_type": "code",
   "execution_count": 26,
   "id": "231484cc-ca74-4a8a-9f71-c50ead224dbe",
   "metadata": {},
   "outputs": [],
   "source": [
    "import pandas as pd\n",
    "import numpy as np"
   ]
  },
  {
   "cell_type": "code",
   "execution_count": 5,
   "id": "e5e22517-1cfa-4738-b5b9-1860a2d52a94",
   "metadata": {},
   "outputs": [],
   "source": [
    "# Creation of Series\n",
    "s = pd.Series([1,2,3,4,5])"
   ]
  },
  {
   "cell_type": "code",
   "execution_count": 91,
   "id": "35cfa162-318b-4e5f-9576-398fefa75cc9",
   "metadata": {},
   "outputs": [],
   "source": [
    "# Converting to list\n",
    "s = pd.Series([6, 7, 8, 9]).tolist()"
   ]
  },
  {
   "cell_type": "code",
   "execution_count": 20,
   "id": "1f6fca82-6a3a-4231-99bf-3e743cac99a1",
   "metadata": {},
   "outputs": [],
   "source": [
    "x1 = pd.Series([2, 4, 6, 8, 10])\n",
    "x2 = pd.Series([1, 3, 6, 7, 10])\n",
    "\n",
    "# Basic Mathematical Operations\n",
    "add = (x1 + x2)\n",
    "subtract = (x1 - x2)\n",
    "multiply = (x1 * x2)\n",
    "divide = (x1 / x2)\n"
   ]
  },
  {
   "cell_type": "code",
   "execution_count": 21,
   "id": "e6b9ff53-7725-4fbb-8257-272ff92fb203",
   "metadata": {},
   "outputs": [],
   "source": [
    "# Boolean Comparison of Series\n",
    "lte_bool = (x1 <= x2)\n",
    "gt_bool = x1 > x2"
   ]
  },
  {
   "cell_type": "code",
   "execution_count": 27,
   "id": "2f959364-d0ae-4ce7-9f9b-48b750463655",
   "metadata": {},
   "outputs": [],
   "source": [
    "# Panda series from python dictionary\n",
    "s = pd.Series(\n",
    "    {'a': 100, 'b': 200, 'c': 300, 'd': 400, 'e': 800}\n",
    ")"
   ]
  },
  {
   "cell_type": "code",
   "execution_count": 37,
   "id": "2f59157e-699c-40fd-8ed5-10b8c2d0325a",
   "metadata": {},
   "outputs": [],
   "source": [
    "# Numpy array to pandas series\n",
    "s = np.array([10, 20, 30, 40, 50])\n",
    "s1 = pd.Series(s2)"
   ]
  },
  {
   "cell_type": "code",
   "execution_count": 54,
   "id": "8622e55c-05af-4b55-b893-2d3371a90b26",
   "metadata": {},
   "outputs": [],
   "source": [
    "# Data type conversion\n",
    "s = pd.Series(['100', '200.232', 'python', '300.12', '400'])\n",
    "s1 = pd.to_numeric(s, errors='coerce') \n",
    "# errors='raise' is default option\n",
    "# errors='ignore' will ignore the error values"
   ]
  },
  {
   "cell_type": "code",
   "execution_count": 86,
   "id": "87b34113-325b-4005-b406-384974844710",
   "metadata": {},
   "outputs": [],
   "source": [
    "# Converting first column of df into series\n",
    "d = pd.DataFrame({\n",
    "    'col1': [1, 2, 3, 4, 7, 11], \n",
    "    'col2': [4, 5, 6, 9, 5, 0], \n",
    "    'col3': [7, 5, 8, 12, 1,11]\n",
    "})\n",
    "\n",
    "# : for selecting entire axis (row, column)\n",
    "d.iloc[:, 0]"
   ]
  },
  {
   "cell_type": "code",
   "execution_count": 104,
   "id": "8142d15c-6f65-495e-97c7-c9114daa2759",
   "metadata": {},
   "outputs": [],
   "source": [
    "# Series to python list\n",
    "s = pd.Series(['100', '200.232', 'python', '300.12', '400'])\n",
    "s.values # numpy array\n",
    "s.tolist() # python list"
   ]
  },
  {
   "cell_type": "code",
   "execution_count": 130,
   "id": "cd471f37-407a-490e-a108-b7fe96cf3577",
   "metadata": {},
   "outputs": [],
   "source": [
    "# Series of list into one Series\n",
    "s = pd.Series([\n",
    "    ['Red', 'Green', 'White'],\n",
    "    ['Red', 'Black'],\n",
    "    ['Yellow']]\n",
    ")\n",
    "s = s.apply(pd.Series).stack().reset_index(drop=True)\n",
    "# Alternative with explode\n",
    "s = s.explode().reset_index(drop=True)"
   ]
  },
  {
   "cell_type": "code",
   "execution_count": 129,
   "id": "b0da3e39-b198-4e6a-afc4-4bb0f0461b6c",
   "metadata": {},
   "outputs": [],
   "source": [
    "# Merging multiple series into one series\n",
    "s1 = pd.Series(['a', 'b'])\n",
    "s2 = pd.Series(['c', 'd'])\n",
    "\n",
    "s3 = pd.concat([s1, s2], ignore_index=True)"
   ]
  },
  {
   "cell_type": "code",
   "execution_count": 138,
   "id": "43121a39-c590-4c5f-9204-4ef2b6b55ca0",
   "metadata": {},
   "outputs": [],
   "source": [
    "# Sorting the series \n",
    "s = pd.Series(['100', '200.232', 'python', '300.12', '400'])\n",
    "s1 = s.sort_values()\n",
    "s2 = s.sort_values(ascending=False)"
   ]
  },
  {
   "cell_type": "code",
   "execution_count": 141,
   "id": "50d7b04a-af6b-4353-9aef-76b249284340",
   "metadata": {},
   "outputs": [],
   "source": [
    "# Adding or appending values to existing series  \n",
    "s = pd.Series(['100', '200.232', 'python', '300.12', '400'])\n",
    "s1 = pd.concat([s, pd.Series([500, 'java'])], ignore_index=True)"
   ]
  },
  {
   "cell_type": "code",
   "execution_count": 150,
   "id": "ed7f040b-1b94-485f-8f91-5406870f6dd3",
   "metadata": {},
   "outputs": [],
   "source": [
    "# Subset based on condition\n",
    "s = pd.Series([1, 2, 3, 4, 5])\n",
    "s[s < 4]"
   ]
  },
  {
   "cell_type": "code",
   "execution_count": 158,
   "id": "72d9059c-6b54-43a3-977b-6983639e8975",
   "metadata": {},
   "outputs": [],
   "source": [
    "# Changing the order of index\n",
    "s = pd.Series([1, 2, 3, 4, 5])\n",
    "s.reindex([0, 4, 3, 2, 1])\n",
    "\n",
    "s1 = pd.Series(data=[1,2,3,4,5], index=['A', 'B', 'C','D','E'])\n",
    "s1.reindex(index=['B','A','C','D','E'])"
   ]
  },
  {
   "cell_type": "code",
   "execution_count": 165,
   "id": "b4bc6869-c83a-4e92-b506-a5ebc171a8cf",
   "metadata": {},
   "outputs": [
    {
     "data": {
      "text/plain": [
       "'Mean of series'"
      ]
     },
     "metadata": {},
     "output_type": "display_data"
    },
    {
     "data": {
      "text/plain": [
       "4.5"
      ]
     },
     "metadata": {},
     "output_type": "display_data"
    },
    {
     "data": {
      "text/plain": [
       "'Standard Deviation of series'"
      ]
     },
     "metadata": {},
     "output_type": "display_data"
    },
    {
     "data": {
      "text/plain": [
       "3.0276503540974917"
      ]
     },
     "metadata": {},
     "output_type": "display_data"
    }
   ],
   "source": [
    "# Mean and Standard deviation of series\n",
    "s = pd.Series([0, 1, 2, 3, 4, 5, 6, 7, 8, 9])\n",
    "display(\"Mean of series\") \n",
    "display(s.mean())\n",
    "display(\"Standard Deviation of series\")\n",
    "display(s.std())"
   ]
  },
  {
   "cell_type": "code",
   "execution_count": 173,
   "id": "5ee0666f-0730-4b0f-b04b-a74c03cb17a7",
   "metadata": {},
   "outputs": [],
   "source": [
    "# Series not present in another series\n",
    "s1 = pd.Series([1, 2, 3, 4, 5])\n",
    "s2 = pd.Series([2, 4, 6, 8, 10])\n",
    "\n",
    "s3 = s1[~s1.isin(s2)]\n",
    "# DataFrame.isin(values)\n",
    "# Whether each element in the DataFrame is contained in values."
   ]
  },
  {
   "cell_type": "code",
   "execution_count": 188,
   "id": "6cd43ce4-1cd5-4dbb-90d3-dc95e5721854",
   "metadata": {},
   "outputs": [],
   "source": [
    "# Series not present in another series\n",
    "s1 = pd.Series([1, 2, 3, 4, 5])\n",
    "s2 = pd.Series([2, 4, 6, 8, 10])\n",
    "\n",
    "s3 = s1[~s1.isin(s2)]\n",
    "s4 = s2[~s2.isin(s1)]\n",
    "s5 = pd.concat([s3, s4])\n",
    "\n",
    "# Using numpy\n",
    "s6 = pd.Series(np.union1d(s1, s2))\n",
    "s7 = pd.Series(np.intersect1d(s1, s2))\n",
    "s8 = s6[~s6.isin(s7)]"
   ]
  },
  {
   "cell_type": "code",
   "execution_count": 200,
   "id": "c8775137-19ca-4d6e-ae13-3a979fb81096",
   "metadata": {},
   "outputs": [],
   "source": [
    "# Computing different percentage\n",
    "s1 = pd.Series([3.000938, 11.370722, 14.612143, 8.990256, 13.925283, 12.056875, 10.884719, 5.719827, 9.242017, 11.020006, 8.167892, 11.740654, 7.665620, 13.267388, 12.690883, 9.582355, 7.874878, 14.118931, 8.247458, 5.526727])\n",
    "\n",
    "# Using pandas percentile method\n",
    "result = [s1.min(), s1.quantile(0.25), s1.median(), s1.quantile(0.75), s1.max()]\n",
    "\n",
    "# Using numpy percentile method\n",
    "result = np.percentile(s1, q=[0, 25, 50, 75, 100])"
   ]
  },
  {
   "cell_type": "code",
   "execution_count": 240,
   "id": "a4476270-2675-4d33-90cb-a151a119916c",
   "metadata": {},
   "outputs": [],
   "source": [
    "# Frequency counts of each unique value of series\n",
    "s1 = pd.Series(np.take(list('0123456789'), np.random.randint(10, size=40)))\n",
    "# s1 = pd.Series(np.random.randint(0, 10, size=40))\n",
    "\n",
    "# By using pandas groupby and count\n",
    "result = s1.groupby(s1).count()\n",
    "\n",
    "# By using numpy value_counts method\n",
    "result = s1.value_counts()"
   ]
  },
  {
   "cell_type": "code",
   "execution_count": 352,
   "id": "6a1663b4-839d-4e3a-bedd-84af8c1ce2d2",
   "metadata": {},
   "outputs": [
    {
     "name": "stderr",
     "output_type": "stream",
     "text": [
      "C:\\Users\\zeesh\\AppData\\Local\\Temp\\ipykernel_2112\\1325288836.py:10: FutureWarning: Setting an item of incompatible dtype is deprecated and will raise in a future error of pandas. Value 'Other' has dtype incompatible with int32, please explicitly cast to a compatible dtype first.\n",
      "  s1[s1 != max_freq] = 'Other'\n"
     ]
    }
   ],
   "source": [
    "# Highest Frequency and others\n",
    "s1 = pd.Series(np.random.randint(0, 10, size=40))\n",
    "\n",
    "# Using numpy value_counts, isin and index\n",
    "# s2 = s1.value_counts()\n",
    "# s1[~s1.isin(s2.index[:1])] = 'Other'\n",
    "\n",
    "# Using pandas mode (most often)\n",
    "max_freq = s1.mode().iloc[0]\n",
    "\n",
    "s1[s1 != max_freq] = 'Other'"
   ]
  },
  {
   "cell_type": "code",
   "execution_count": 378,
   "id": "7c302780-8342-4d48-8a9a-94e87c97a204",
   "metadata": {},
   "outputs": [],
   "source": [
    "# Mutiple of 5 positions in series\n",
    "s1 = pd.Series(np.random.randint(0, 26, size=40))\n",
    "\n",
    "# pandas method\n",
    "s2 = s1[s1 % 5 == 0].index\n",
    "\n",
    "# Numpy way\n",
    "s3 = np.where(s1 % 5 == 0)"
   ]
  },
  {
   "cell_type": "code",
   "execution_count": 388,
   "id": "aedacda3-a6ce-4633-a65a-be459c366620",
   "metadata": {},
   "outputs": [],
   "source": [
    "# \n",
    "positions = [0, 2, 11, 21]\n",
    "s1 = pd.Series(np.random.randint(0, 10, size=25))\n",
    "result = s1.take(positions)"
   ]
  }
 ],
 "metadata": {
  "kernelspec": {
   "display_name": "Python 3 (ipykernel)",
   "language": "python",
   "name": "python3"
  },
  "language_info": {
   "codemirror_mode": {
    "name": "ipython",
    "version": 3
   },
   "file_extension": ".py",
   "mimetype": "text/x-python",
   "name": "python",
   "nbconvert_exporter": "python",
   "pygments_lexer": "ipython3",
   "version": "3.11.3"
  }
 },
 "nbformat": 4,
 "nbformat_minor": 5
}
