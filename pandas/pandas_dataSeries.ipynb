{
 "cells": [
  {
   "cell_type": "code",
   "execution_count": 26,
   "id": "231484cc-ca74-4a8a-9f71-c50ead224dbe",
   "metadata": {},
   "outputs": [],
   "source": [
    "import pandas as pd\n",
    "import numpy as np"
   ]
  },
  {
   "cell_type": "code",
   "execution_count": 5,
   "id": "e5e22517-1cfa-4738-b5b9-1860a2d52a94",
   "metadata": {},
   "outputs": [],
   "source": [
    "# Creation of Series\n",
    "s = pd.Series([1,2,3,4,5])"
   ]
  },
  {
   "cell_type": "code",
   "execution_count": 7,
   "id": "35cfa162-318b-4e5f-9576-398fefa75cc9",
   "metadata": {},
   "outputs": [],
   "source": [
    "# Converting to list\n",
    "s = pd.Series([6, 7, 8, 9]).tolist()"
   ]
  },
  {
   "cell_type": "code",
   "execution_count": 20,
   "id": "1f6fca82-6a3a-4231-99bf-3e743cac99a1",
   "metadata": {},
   "outputs": [],
   "source": [
    "x1 = pd.Series([2, 4, 6, 8, 10])\n",
    "x2 = pd.Series([1, 3, 6, 7, 10])\n",
    "\n",
    "# Basic Mathematical Operations\n",
    "add = (x1 + x2)\n",
    "subtract = (x1 - x2)\n",
    "multiply = (x1 * x2)\n",
    "divide = (x1 / x2)\n"
   ]
  },
  {
   "cell_type": "code",
   "execution_count": 21,
   "id": "e6b9ff53-7725-4fbb-8257-272ff92fb203",
   "metadata": {},
   "outputs": [],
   "source": [
    "# Boolean Comparison of Series\n",
    "lte_bool = (x1 <= x2)\n",
    "gt_bool = x1 > x2"
   ]
  },
  {
   "cell_type": "code",
   "execution_count": 27,
   "id": "2f959364-d0ae-4ce7-9f9b-48b750463655",
   "metadata": {},
   "outputs": [],
   "source": [
    "# Panda series from python dictionary\n",
    "s = pd.Series(\n",
    "    {'a': 100, 'b': 200, 'c': 300, 'd': 400, 'e': 800}\n",
    ")"
   ]
  },
  {
   "cell_type": "code",
   "execution_count": 37,
   "id": "2f59157e-699c-40fd-8ed5-10b8c2d0325a",
   "metadata": {},
   "outputs": [],
   "source": [
    "# Numpy array to pandas series\n",
    "s = np.array([10, 20, 30, 40, 50])\n",
    "s1 = pd.Series(s2)"
   ]
  },
  {
   "cell_type": "code",
   "execution_count": 54,
   "id": "8622e55c-05af-4b55-b893-2d3371a90b26",
   "metadata": {},
   "outputs": [],
   "source": [
    "# Data type conversion\n",
    "s = pd.Series(['100', '200.232', 'python', '300.12', '400'])\n",
    "s1 = pd.to_numeric(s, errors='coerce') \n",
    "# errors='raise' is default option\n",
    "# errors='ignore' will ignore the error values"
   ]
  },
  {
   "cell_type": "code",
   "execution_count": 82,
   "id": "87b34113-325b-4005-b406-384974844710",
   "metadata": {},
   "outputs": [],
   "source": [
    "# Converting first column of df into series\n",
    "d = pd.DataFrame({\n",
    "    'col1': [1, 2, 3, 4, 7, 11], \n",
    "    'col2': [4, 5, 6, 9, 5, 0], \n",
    "    'col3': [7, 5, 8, 12, 1,11]\n",
    "})\n",
    "\n",
    "# : for selecting entire axis\n",
    "d.iloc[:, 1]"
   ]
  }
 ],
 "metadata": {
  "kernelspec": {
   "display_name": "Python 3 (ipykernel)",
   "language": "python",
   "name": "python3"
  },
  "language_info": {
   "codemirror_mode": {
    "name": "ipython",
    "version": 3
   },
   "file_extension": ".py",
   "mimetype": "text/x-python",
   "name": "python",
   "nbconvert_exporter": "python",
   "pygments_lexer": "ipython3",
   "version": "3.11.3"
  }
 },
 "nbformat": 4,
 "nbformat_minor": 5
}
